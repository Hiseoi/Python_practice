{
  "nbformat": 4,
  "nbformat_minor": 0,
  "metadata": {
    "colab": {
      "provenance": [],
      "collapsed_sections": []
    },
    "kernelspec": {
      "name": "python3",
      "display_name": "Python 3"
    },
    "language_info": {
      "name": "python"
    }
  },
  "cells": [
    {
      "cell_type": "code",
      "execution_count": 1,
      "metadata": {
        "colab": {
          "base_uri": "https://localhost:8080/"
        },
        "id": "OMHIGRRC3IHN",
        "outputId": "1e20243c-cb86-4c52-c3ee-f55341c37fa8"
      },
      "outputs": [
        {
          "output_type": "stream",
          "name": "stdout",
          "text": [
            "9\n"
          ]
        }
      ],
      "source": [
        "def square(n):\n",
        "    return n*n\n",
        "    \n",
        "a=square(3)\n",
        "print(a)"
      ]
    },
    {
      "cell_type": "code",
      "source": [
        "def maximum(a,b):\n",
        "    if a>=b:\n",
        "        max=a\n",
        "    else:\n",
        "        max=b\n",
        "    return max\n",
        "\n",
        "maximum(4,3)"
      ],
      "metadata": {
        "colab": {
          "base_uri": "https://localhost:8080/"
        },
        "id": "q9UBRsQY3Lhd",
        "outputId": "8cb6edec-b5a4-41f6-bf42-f311689863ed"
      },
      "execution_count": 2,
      "outputs": [
        {
          "output_type": "execute_result",
          "data": {
            "text/plain": [
              "4"
            ]
          },
          "metadata": {},
          "execution_count": 2
        }
      ]
    },
    {
      "cell_type": "code",
      "source": [
        "def 요금(무게):\n",
        "    if 무게>=20:\n",
        "        print(\"2만원\")\n",
        "    else:\n",
        "        print(\"수수료 없음\")\n",
        "        \n",
        "요금(35)"
      ],
      "metadata": {
        "colab": {
          "base_uri": "https://localhost:8080/"
        },
        "id": "nQAoTnVM3Nzz",
        "outputId": "bb4d8212-3849-4c36-ae52-efdb68c01866"
      },
      "execution_count": 3,
      "outputs": [
        {
          "output_type": "stream",
          "name": "stdout",
          "text": [
            "2만원\n"
          ]
        }
      ]
    },
    {
      "cell_type": "code",
      "source": [
        "def 날짜출력(month,last):\n",
        "    for day in range(1,last+1):\n",
        "        print(month,day)\n",
        "        \n",
        "날짜출력(1,31)"
      ],
      "metadata": {
        "colab": {
          "base_uri": "https://localhost:8080/"
        },
        "id": "WlRV-SAS3PGl",
        "outputId": "cf49df2d-f4f3-4566-a5f4-09b00416621b"
      },
      "execution_count": 4,
      "outputs": [
        {
          "output_type": "stream",
          "name": "stdout",
          "text": [
            "1 1\n",
            "1 2\n",
            "1 3\n",
            "1 4\n",
            "1 5\n",
            "1 6\n",
            "1 7\n",
            "1 8\n",
            "1 9\n",
            "1 10\n",
            "1 11\n",
            "1 12\n",
            "1 13\n",
            "1 14\n",
            "1 15\n",
            "1 16\n",
            "1 17\n",
            "1 18\n",
            "1 19\n",
            "1 20\n",
            "1 21\n",
            "1 22\n",
            "1 23\n",
            "1 24\n",
            "1 25\n",
            "1 26\n",
            "1 27\n",
            "1 28\n",
            "1 29\n",
            "1 30\n",
            "1 31\n"
          ]
        }
      ]
    },
    {
      "cell_type": "markdown",
      "source": [
        "Television 리모콘과 같은 기능을 만들어보자"
      ],
      "metadata": {
        "id": "jCvYfOJ64duK"
      }
    },
    {
      "cell_type": "code",
      "execution_count": 5,
      "metadata": {
        "id": "1maMw6vIxlvi"
      },
      "outputs": [],
      "source": [
        "class Television():\n",
        "    def __init__(self, volume, power):\n",
        "        self.volume=volume\n",
        "        self.power=power\n",
        "        \n",
        "    def show(self):\n",
        "        print(self.volume,self.power)\n",
        "    \n",
        "    def max(self):\n",
        "        self.volume=100\n",
        "        \n",
        "    def min(self):\n",
        "        self.volume=0\n",
        "        \n",
        "    def mute(self):\n",
        "        self.volume='mute'\n",
        "        \n",
        "    def on(self):\n",
        "        self.power=True\n",
        "        \n",
        "    def off(self):\n",
        "        self.power=False\n",
        "        "
      ]
    },
    {
      "cell_type": "code",
      "execution_count": 6,
      "metadata": {
        "id": "5HxeWNCYxlvi"
      },
      "outputs": [],
      "source": [
        "TV=Television(5,True)\n"
      ]
    },
    {
      "cell_type": "code",
      "execution_count": 7,
      "metadata": {
        "id": "QB92FAGixlvj",
        "outputId": "52367c22-9e8a-4d16-8a9e-ac7b1626d13a",
        "colab": {
          "base_uri": "https://localhost:8080/"
        }
      },
      "outputs": [
        {
          "output_type": "execute_result",
          "data": {
            "text/plain": [
              "5"
            ]
          },
          "metadata": {},
          "execution_count": 7
        }
      ],
      "source": [
        "TV.volume"
      ]
    },
    {
      "cell_type": "code",
      "execution_count": 8,
      "metadata": {
        "id": "weLDwmEuxlvj"
      },
      "outputs": [],
      "source": [
        "TV.max()"
      ]
    },
    {
      "cell_type": "code",
      "execution_count": 9,
      "metadata": {
        "id": "nUM_e9Agxlvj",
        "outputId": "379312c8-6f79-4b06-f58d-790386eac3a7",
        "colab": {
          "base_uri": "https://localhost:8080/"
        }
      },
      "outputs": [
        {
          "output_type": "execute_result",
          "data": {
            "text/plain": [
              "100"
            ]
          },
          "metadata": {},
          "execution_count": 9
        }
      ],
      "source": [
        "TV.volume\n"
      ]
    },
    {
      "cell_type": "code",
      "execution_count": 10,
      "metadata": {
        "id": "BeDyYWN7xlvk"
      },
      "outputs": [],
      "source": [
        "TV.off()"
      ]
    },
    {
      "cell_type": "code",
      "execution_count": 11,
      "metadata": {
        "id": "IqNQQzW_xlvk",
        "outputId": "3cc6f52c-b623-408f-c239-3d17ac521ed2",
        "colab": {
          "base_uri": "https://localhost:8080/"
        }
      },
      "outputs": [
        {
          "output_type": "execute_result",
          "data": {
            "text/plain": [
              "False"
            ]
          },
          "metadata": {},
          "execution_count": 11
        }
      ],
      "source": [
        "TV.power\n"
      ]
    },
    {
      "cell_type": "code",
      "execution_count": 12,
      "metadata": {
        "id": "pvljCednxlvk",
        "outputId": "8cb33a66-2e46-4a6f-fd6e-eab3f391babe",
        "colab": {
          "base_uri": "https://localhost:8080/"
        }
      },
      "outputs": [
        {
          "output_type": "stream",
          "name": "stdout",
          "text": [
            "100 False\n"
          ]
        }
      ],
      "source": [
        "TV.show()"
      ]
    },
    {
      "cell_type": "markdown",
      "source": [
        "계산기"
      ],
      "metadata": {
        "id": "GStECaHt4hwf"
      }
    },
    {
      "cell_type": "code",
      "source": [
        "class Calculator:\n",
        "    def __init__(self):\n",
        "        self.value=0\n",
        "        \n",
        "    def add(self,number):\n",
        "        self.value+=number\n",
        "        \n",
        "    def sub(self,number):\n",
        "        self.value-=number\n",
        "        \n",
        "    def mul(self,number):\n",
        "        self.value*=number\n",
        "        \n",
        "    def div(self,number):\n",
        "        self.value/=number"
      ],
      "metadata": {
        "id": "OHYKqDQt3gZ9"
      },
      "execution_count": 13,
      "outputs": []
    },
    {
      "cell_type": "code",
      "source": [
        "C=Calculator()\n",
        "C.add(3)\n",
        "C.add(2)\n",
        "C.sub(1)\n",
        "C.mul(3)\n",
        "C.div(6)\n",
        "print(C.value)"
      ],
      "metadata": {
        "colab": {
          "base_uri": "https://localhost:8080/"
        },
        "id": "pQ7a0Qvb3gte",
        "outputId": "0f04f574-6d49-4384-d2aa-980dfcfc8b59"
      },
      "execution_count": 14,
      "outputs": [
        {
          "output_type": "stream",
          "name": "stdout",
          "text": [
            "2.0\n"
          ]
        }
      ]
    },
    {
      "cell_type": "markdown",
      "source": [
        "끝말잇기"
      ],
      "metadata": {
        "id": "zUtFZPIw4jEH"
      }
    },
    {
      "cell_type": "code",
      "source": [
        "word1=input()\n",
        "word_list=[]\n",
        "\n",
        "for i in range(1,100):\n",
        "    word2=input()\n",
        "    \n",
        "    if word1[-1]==word2[0]:\n",
        "        print(word1,word2,\"pass\")\n",
        "        word_list.append(word2)\n",
        "        word1=word2\n",
        "        \n",
        "    elif word1[-1]!=word2[0]:\n",
        "        print(word1,word2,\"break\")\n",
        "        break\n",
        "        \n",
        "    elif word2 in word_list:\n",
        "        print(word_list,word2,\"break\")\n",
        "        break"
      ],
      "metadata": {
        "colab": {
          "base_uri": "https://localhost:8080/"
        },
        "id": "iVtLwC9c3rUt",
        "outputId": "56c4065d-0d24-4a17-8143-4d149cef3ae7"
      },
      "execution_count": 17,
      "outputs": [
        {
          "output_type": "stream",
          "name": "stdout",
          "text": [
            "기차\n",
            "차도\n",
            "기차 차도 pass\n",
            "도시락\n",
            "차도 도시락 pass\n",
            "락페스티벌\n",
            "도시락 락페스티벌 pass\n",
            "벌집\n",
            "락페스티벌 벌집 pass\n",
            "지구\n",
            "벌집 지구 break\n"
          ]
        }
      ]
    }
  ]
}