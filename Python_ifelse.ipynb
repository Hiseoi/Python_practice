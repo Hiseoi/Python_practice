{
  "nbformat": 4,
  "nbformat_minor": 0,
  "metadata": {
    "colab": {
      "provenance": []
    },
    "kernelspec": {
      "name": "python3",
      "display_name": "Python 3"
    },
    "language_info": {
      "name": "python"
    }
  },
  "cells": [
    {
      "cell_type": "code",
      "execution_count": 1,
      "metadata": {
        "colab": {
          "base_uri": "https://localhost:8080/"
        },
        "id": "FGpGA3xIzXAc",
        "outputId": "35c9abe7-72ad-4c0d-dd32-d62df23e2c82"
      },
      "outputs": [
        {
          "output_type": "stream",
          "name": "stdout",
          "text": [
            "마트에서 주류를 구입할 수 있습니다.\n"
          ]
        }
      ],
      "source": [
        "age=19\n",
        "if(age>=19):\n",
        "    print(\"마트에서 주류를 구입할 수 있습니다.\")\n",
        "   \n",
        "else:\n",
        "    print(\"조금 기다리세요!\")"
      ]
    },
    {
      "cell_type": "code",
      "source": [
        "input1=139\n",
        "input2=4\n",
        "\n",
        "if((input1>=140)and(input2>=2.0)):\n",
        "    print(\"졸업을 할 수 있습니다.\")\n",
        "    \n",
        "else:\n",
        "    print(\"졸업을 할 수 없습니다.\")"
      ],
      "metadata": {
        "colab": {
          "base_uri": "https://localhost:8080/"
        },
        "id": "-AB04KixzZ4Y",
        "outputId": "d8a77ad3-cad0-4ac5-f5cb-74cf5a43bd36"
      },
      "execution_count": 2,
      "outputs": [
        {
          "output_type": "stream",
          "name": "stdout",
          "text": [
            "졸업을 할 수 없습니다.\n"
          ]
        }
      ]
    },
    {
      "cell_type": "code",
      "source": [
        "number=int(input(\"정수 입력: \"))\n",
        "if number%2==0:\n",
        "    print(\"짝수\")\n",
        "else:\n",
        "    print(\"홀수\")"
      ],
      "metadata": {
        "colab": {
          "base_uri": "https://localhost:8080/"
        },
        "id": "hxH_bAT41AR5",
        "outputId": "e18f295f-3aca-484a-b765-1f6eac05d7e1"
      },
      "execution_count": 2,
      "outputs": [
        {
          "output_type": "stream",
          "name": "stdout",
          "text": [
            "정수 입력: 4\n",
            "짝수\n"
          ]
        }
      ]
    },
    {
      "cell_type": "code",
      "source": [
        "value=int(input(\"값을 입력하시오: \"))\n",
        "if value>0:\n",
        "    print(\"양수\")\n",
        "elif value<0:\n",
        "    print(\"음수\")\n",
        "else:\n",
        "    print('0')\n"
      ],
      "metadata": {
        "colab": {
          "base_uri": "https://localhost:8080/"
        },
        "id": "lsdPCMKUzft-",
        "outputId": "6a2d6b66-f331-4670-f35b-397f8e212723"
      },
      "execution_count": 1,
      "outputs": [
        {
          "output_type": "stream",
          "name": "stdout",
          "text": [
            "값을 입력하시오: 4\n",
            "양수\n"
          ]
        }
      ]
    },
    {
      "cell_type": "code",
      "source": [
        "input1=int(input(\"이수학점을 입력하시오:\"))\n",
        "input2=float(input(\"평점을 입력하시오:\"))\n",
        "if((input1>=140)and(input2>=2.0)):\n",
        "    print(\"졸업을 할 수 있습니다.\")\n",
        "    \n",
        "else:\n",
        "    print(\"졸업을 할 수 없습니다.\")"
      ],
      "metadata": {
        "colab": {
          "base_uri": "https://localhost:8080/"
        },
        "id": "gUVS5kfwzx-6",
        "outputId": "88c245f0-9df8-4cf0-a1f2-1231c7abacc4"
      },
      "execution_count": 4,
      "outputs": [
        {
          "output_type": "stream",
          "name": "stdout",
          "text": [
            "이수학점을 입력하시오:150\n",
            "평점을 입력하시오:1.9\n",
            "졸업을 할 수 없습니다.\n"
          ]
        }
      ]
    },
    {
      "cell_type": "code",
      "source": [
        "price=int(input(\"가격을 입력하시오: \"))\n",
        "if price>=100000:\n",
        "    print(price*0.95)\n",
        "else:\n",
        "    print(price)"
      ],
      "metadata": {
        "colab": {
          "base_uri": "https://localhost:8080/"
        },
        "id": "-QS5ex0816Zi",
        "outputId": "47c6660a-7ea2-44cd-982b-45dca69ea2d7"
      },
      "execution_count": 5,
      "outputs": [
        {
          "output_type": "stream",
          "name": "stdout",
          "text": [
            "가격을 입력하시오: 5000\n",
            "5000\n"
          ]
        }
      ]
    },
    {
      "cell_type": "code",
      "source": [
        "text=str(input(\"문자를 입력하시오: \"))\n",
        "if len(text)%2==0:\n",
        "    center=len(text)//2\n",
        "    print(text[center-1:center+1])\n",
        "else:\n",
        "    center=len(text)//2\n",
        "    print(text[center])"
      ],
      "metadata": {
        "colab": {
          "base_uri": "https://localhost:8080/"
        },
        "id": "q0vUUnhS2F7C",
        "outputId": "80964a0e-8142-41b3-d76b-82666f6f3b16"
      },
      "execution_count": 6,
      "outputs": [
        {
          "output_type": "stream",
          "name": "stdout",
          "text": [
            "문자를 입력하시오: 김현서\n",
            "현\n"
          ]
        }
      ]
    },
    {
      "cell_type": "code",
      "source": [
        "text=str(input(\"문자를 입력하시오: \"))\n",
        "if len(text)%2==0:\n",
        "    center=len(text)//2\n",
        "    print(text[center-1:center+1])\n",
        "else:\n",
        "    center=len(text)//2\n",
        "    print(text[center])"
      ],
      "metadata": {
        "colab": {
          "base_uri": "https://localhost:8080/"
        },
        "id": "z3Wd_TyE2Lk3",
        "outputId": "f19f3ada-b3f4-4ce0-b9d8-d5c26dba5fcb"
      },
      "execution_count": 7,
      "outputs": [
        {
          "output_type": "stream",
          "name": "stdout",
          "text": [
            "문자를 입력하시오: abcd\n",
            "bc\n"
          ]
        }
      ]
    },
    {
      "cell_type": "code",
      "source": [],
      "metadata": {
        "id": "aGWLEb872O8w"
      },
      "execution_count": null,
      "outputs": []
    }
  ]
}